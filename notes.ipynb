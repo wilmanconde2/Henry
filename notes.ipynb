{
 "cells": [
  {
   "attachments": {},
   "cell_type": "markdown",
   "metadata": {},
   "source": [
    "LISTAS [MUTABLES]\n",
    "Se usan []"
   ]
  },
  {
   "cell_type": "code",
   "execution_count": 167,
   "metadata": {},
   "outputs": [
    {
     "name": "stdout",
     "output_type": "stream",
     "text": [
      "my_list => [12, 'rojo', False, 'negro']\n",
      "my_list[3] => muestra el elemento en el indice requerido[3] => negro\n",
      "\"rojo\" in my_list => muestra si el elemento existe en la lista => True\n",
      ".append(\"morado\") => agrega un elemento al final de la lista => [12, 'rojo', 'valores', False, 'negro', 'morado'] \n",
      ".insert(2,\"valores\") => agrega un elemento en el indice requerido => [12, 'rojo', 'valores', False, 'negro', 'morado']\n",
      ".count(\"morado\") => muestra la cantidad de veces que esta un elemento en una lista/tupla => 1\n",
      ".index(\"negro\") => busca un elemento en la lista y si no esta da error => 4\n",
      ".remove(\"rojo\") => elimina elemento requerido => [12, 'valores', False, 'negro', 'morado']\n",
      ".pop() => elimina el ultimo item de la lista o lo guarda en otra variable => [12, 'valores', False, 'negro'] \n",
      "nueva variable => var = morado\n"
     ]
    }
   ],
   "source": [
    "my_list = [12, 'rojo', False, 'negro']\n",
    "print('my_list =>', my_list)\n",
    "print('my_list[3] => muestra el elemento en el indice requerido[3] =>', my_list[3])\n",
    "print('\"rojo\" in my_list => muestra si el elemento existe en la lista =>', 'rojo' in my_list)\n",
    "my_list.append('morado')\n",
    "my_list.insert(2,'valores')\n",
    "print('.append(\"morado\") => agrega un elemento al final de la lista =>', my_list, '\\n.insert(2,\"valores\") => agrega un elemento en el indice requerido =>', my_list)\n",
    "print('.count(\"morado\") => muestra la cantidad de veces que esta un elemento en una lista/tupla =>', my_list.count('morado'))\n",
    "print('.index(\"negro\") => busca un elemento en la lista y si no esta da error =>', my_list.index('negro'))\n",
    "my_list.remove('rojo')\n",
    "print('.remove(\"rojo\") => elimina elemento requerido =>', my_list)\n",
    "var = my_list.pop()\n",
    "print('.pop() => elimina el ultimo item de la lista o lo guarda en otra variable =>', my_list, '\\nnueva variable => var =', var)"
   ]
  },
  {
   "cell_type": "code",
   "execution_count": 168,
   "metadata": {},
   "outputs": [
    {
     "name": "stdout",
     "output_type": "stream",
     "text": [
      "nueva lista => ['wilman', 22, 54, 'rojo', 'conde', 89]\n",
      "my_list.extend(my_new_list) => concatena dos listas => [12, 'valores', False, 'negro', 'wilman', 22, 54, 'rojo', 'conde', 89]\n",
      "* multiplica la lista => ['wilman', 22, 54, 'rojo', 'conde', 89, 'wilman', 22, 54, 'rojo', 'conde', 89]\n",
      "lista_numeros => [12, 4, 2, 56, 34, 61, 3, 7, 345]\n",
      ".sort() => ordena la lista => [2, 3, 4, 7, 12, 34, 56, 61, 345]\n"
     ]
    }
   ],
   "source": [
    "my_new_list = ['wilman', 22, 54, 'rojo', 'conde', 89]\n",
    "print('nueva lista =>', my_new_list)\n",
    "my_list.extend(my_new_list)\n",
    "print('my_list.extend(my_new_list) => concatena dos listas =>', my_list)\n",
    "print('* multiplica la lista =>', my_new_list * 2)\n",
    "lista_numeros = [12, 4, 2, 56, 34, 61, 3, 7, 345]\n",
    "print('lista_numeros =>', lista_numeros)\n",
    "lista_numeros.sort()\n",
    "print('.sort() => ordena la lista =>', lista_numeros)\n"
   ]
  },
  {
   "cell_type": "code",
   "execution_count": 169,
   "metadata": {},
   "outputs": [
    {
     "name": "stdout",
     "output_type": "stream",
     "text": [
      "Lista = [21, 43, 53, 64, 3, 7, 5, 34, 643, 45, 9, 64, 32, 21, 54, 87, 54, 21, 6, 9, 3, 1, 5, 4, 34]\n",
      "Lista organizada = [1, 3, 3, 4, 5, 5, 6, 7, 9, 9, 21, 21, 21, 32, 34, 34, 43, 45, 53, 54, 54, 64, 64, 87, 643]\n",
      "Lista sin duplicados => [1, 3, 4, 5, 6, 7, 9, 21, 32, 34, 43, 45, 53, 54, 64, 87, 643]\n",
      "sum(lista) => suma los elementos de la lista => 1322\n",
      "cadena = wilman conde\n",
      "list(\"cadena\") => convierte la cadena en una lista =>\n",
      "['w', 'i', 'l', 'm', 'a', 'n', ' ', 'c', 'o', 'n', 'd', 'e']\n",
      "\"*\".join(\"cadena\") => le agrega a cada iterable el caracter especificado =>\n",
      "w*i*l*m*a*n* *c*o*n*d*e\n",
      "my_new_list = ['wilman', 22, 54, 'rojo', 'conde', 89]\n",
      "iterador = iter(my_new_list) => se crea iterador automatico y con \"next\" itera =>\n",
      "next(iterador) =>\n"
     ]
    }
   ],
   "source": [
    "lista = [21, 43, 53, 64, 3, 7, 5, 34, 643, 45, 9, 64, 32, 21, 54, 87, 54, 21, 6, 9, 3, 1, 5, 4, 34]\n",
    "print(f'Lista =', lista)\n",
    "lista.sort()\n",
    "print(f'Lista organizada =', lista)\n",
    "\n",
    "elemento_anterior = ''\n",
    "contador = 1\n",
    "sinDuplicados = []\n",
    "for i in lista:\n",
    "    if(i == elemento_anterior):\n",
    "        contador += 1\n",
    "    else:\n",
    "        sinDuplicados.append(i)\n",
    "        #print(f'El elemento {elemento_anterior} aparece {contador} vez/veces)')\n",
    "        contador = 1\n",
    "        #print(f'El elemento {elemento_anterior} aparece {contador} vez/veces)')\n",
    "        elemento_anterior = i\n",
    "print(f'Lista sin duplicados => {sinDuplicados}')\n",
    "print(f'sum(lista) => suma los elementos de la lista => {sum(lista)}')\n",
    "cadena = 'wilman conde'\n",
    "print(f'cadena = {cadena}')\n",
    "print(f'list(\"cadena\") => convierte la cadena en una lista =>\\n{list(cadena)}')\n",
    "print(f'\"*\".join(\"cadena\") => le agrega a cada iterable el caracter especificado =>\\n{\"*\".join(cadena)}')\n",
    "print(f'my_new_list = {my_new_list}')\n",
    "iterador = iter(my_new_list)\n",
    "print('iterador = iter(my_new_list) => se crea iterador automatico y con \"next\" itera =>\\nnext(iterador) =>')"
   ]
  },
  {
   "cell_type": "code",
   "execution_count": 170,
   "metadata": {},
   "outputs": [
    {
     "name": "stdout",
     "output_type": "stream",
     "text": [
      "wilman\n"
     ]
    }
   ],
   "source": [
    "print(next(iterador))"
   ]
  },
  {
   "cell_type": "code",
   "execution_count": 186,
   "metadata": {},
   "outputs": [
    {
     "name": "stdout",
     "output_type": "stream",
     "text": [
      "Para asociar n listas se utiliza \"zip\"\n",
      "lista1 = [21, 34, 52, 65, 76]\n",
      "lista2 = ['juan', 'pedro', 'luis', 'michael', 'freddy']\n",
      "listaMix = zip(lista1, lista2, lista3)\n",
      "listaMix debe convertirse en lista =>\n",
      "list(listaMix) = [('juan', 21, 'colombia'), ('pedro', 34, 'brazil'), ('luis', 52, 'peru'), ('michael', 65, 'venezuela'), ('freddy', 76, 'bolivia')]\n"
     ]
    }
   ],
   "source": [
    "print('Para asociar n listas se utiliza \"zip\"')\n",
    "lista1 = [21, 34, 52, 65, 76]\n",
    "lista2 = ['juan', 'pedro', 'luis', 'michael', 'freddy']\n",
    "lista3 = ['colombia', 'brazil', 'peru', 'venezuela', 'bolivia']\n",
    "print(f'lista1 = {lista1}\\nlista2 = {lista2}')\n",
    "listaMix = zip(lista2, lista1, lista3)\n",
    "print('listaMix = zip(lista1, lista2, lista3)')\n",
    "print(f'listaMix debe convertirse en lista =>\\nlist(listaMix) = {list(listaMix)}')"
   ]
  },
  {
   "attachments": {},
   "cell_type": "markdown",
   "metadata": {},
   "source": [
    "TUPLAS (INMUTABLES)\n",
    "\n",
    "Se usan ()\n",
    "Usa las funciones .count y .index\n"
   ]
  },
  {
   "cell_type": "code",
   "execution_count": 58,
   "metadata": {},
   "outputs": [
    {
     "name": "stdout",
     "output_type": "stream",
     "text": [
      "var1, var2, var3, var4, var5 = my_tuple => desempaquetar la tupla en variables => 5 56 234 534 9\n"
     ]
    }
   ],
   "source": [
    "my_tuple = (5, 56, 234, 534, 9)\n",
    "var1, var2, var3, var4, var5 = my_tuple\n",
    "print('var1, var2, var3, var4, var5 = my_tuple => desempaquetar la tupla en variables =>', var1, var2, var3, var4, var5)\n"
   ]
  },
  {
   "attachments": {},
   "cell_type": "markdown",
   "metadata": {},
   "source": [
    "DICCIONARIOS {CLAVE:VALOR}"
   ]
  },
  {
   "cell_type": "code",
   "execution_count": 59,
   "metadata": {},
   "outputs": [
    {
     "name": "stdout",
     "output_type": "stream",
     "text": [
      "Diccionario => {'frutas': ['manzana', 'pera', 'kiwi'], 'verduras': ['cebolla', 'tomate', 'lechuga'], 'especias': ['sal', 'pimienta', 'canela']}\n",
      "my_dic[\"frutas\"] => muestra el valor de la clave especificada => ['manzana', 'pera', 'kiwi']\n",
      "my_dic[\"frutas\"] = [\"mango\", \"papaya\"] => cambia los valores de la clave requerida =>\n",
      "{'frutas': ['mango', 'papaya'], 'verduras': ['cebolla', 'tomate', 'lechuga'], 'especias': ['sal', 'pimienta', 'canela']}\n",
      "my_dic['paises'] = ['colombia', 'argentina'] => agrega una nueva clave:valor al diccionario =>\n",
      "{'frutas': ['mango', 'papaya'], 'verduras': ['cebolla', 'tomate', 'lechuga'], 'especias': ['sal', 'pimienta', 'canela'], 'paises': ['colombia', 'argentina']}\n"
     ]
    }
   ],
   "source": [
    "my_dic = {'frutas' : ['manzana', 'pera', 'kiwi'], \n",
    "          'verduras' : ['cebolla', 'tomate', 'lechuga'],\n",
    "          'especias' : ['sal', 'pimienta', 'canela']}\n",
    "print(f'Diccionario =>', my_dic)\n",
    "print('my_dic[\"frutas\"] => muestra el valor de la clave especificada =>', my_dic['frutas'])\n",
    "\n",
    "print('my_dic[\"frutas\"] = [\"mango\", \"papaya\"] => cambia los valores de la clave requerida =>')\n",
    "my_dic['frutas'] = ['mango', 'papaya']\n",
    "print(my_dic)\n",
    "print(\"my_dic['paises'] = ['colombia', 'argentina'] => agrega una nueva clave:valor al diccionario =>\")\n",
    "my_dic['paises'] = ['colombia', 'argentina']\n",
    "print(my_dic)\n"
   ]
  },
  {
   "cell_type": "code",
   "execution_count": 61,
   "metadata": {},
   "outputs": [
    {
     "name": "stdout",
     "output_type": "stream",
     "text": [
      "my_dic.keys() => muestra las claves del diccionario => dict_keys(['frutas', 'verduras', 'especias', 'paises'])\n",
      "my_dic.values() => muestra los valores del diccionario => dict_values([['mango', 'papaya'], ['cebolla', 'tomate', 'lechuga'], ['sal', 'pimienta', 'canela'], ['colombia', 'argentina']])\n"
     ]
    }
   ],
   "source": [
    "print('my_dic.keys() => muestra las claves del diccionario =>', my_dic.keys())\n",
    "print('my_dic.values() => muestra los valores del diccionario =>', my_dic.values())"
   ]
  }
 ],
 "metadata": {
  "kernelspec": {
   "display_name": "Python 3",
   "language": "python",
   "name": "python3"
  },
  "language_info": {
   "codemirror_mode": {
    "name": "ipython",
    "version": 3
   },
   "file_extension": ".py",
   "mimetype": "text/x-python",
   "name": "python",
   "nbconvert_exporter": "python",
   "pygments_lexer": "ipython3",
   "version": "3.9.13"
  },
  "orig_nbformat": 4,
  "vscode": {
   "interpreter": {
    "hash": "1b11df2dfabc679d4213a198ed358e8f89779aa45bbc84598ce46eac4987306f"
   }
  }
 },
 "nbformat": 4,
 "nbformat_minor": 2
}
